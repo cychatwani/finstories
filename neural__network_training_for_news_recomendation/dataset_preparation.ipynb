{
 "cells": [
  {
   "cell_type": "code",
   "execution_count": 1,
   "id": "8c19f8b4",
   "metadata": {},
   "outputs": [
    {
     "name": "stdout",
     "output_type": "stream",
     "text": [
      "Requirement already satisfied: recommenders in c:\\users\\chira\\anaconda3\\lib\\site-packages (1.1.0)\n",
      "Requirement already satisfied: jinja2<3.1,>=2 in c:\\users\\chira\\anaconda3\\lib\\site-packages (from recommenders) (2.11.3)\n",
      "Requirement already satisfied: pandera[strategies]>=0.6.5 in c:\\users\\chira\\anaconda3\\lib\\site-packages (from recommenders) (0.10.1)\n",
      "Requirement already satisfied: tqdm<5,>=4.31.1 in c:\\users\\chira\\anaconda3\\lib\\site-packages (from recommenders) (4.62.3)\n",
      "Requirement already satisfied: scikit-learn<1.0.3,>=0.22.1 in c:\\users\\chira\\anaconda3\\lib\\site-packages (from recommenders) (0.24.2)\n",
      "Requirement already satisfied: requests<3,>=2.0.0 in c:\\users\\chira\\anaconda3\\lib\\site-packages (from recommenders) (2.26.0)\n",
      "Requirement already satisfied: matplotlib<4,>=2.2.2 in c:\\users\\chira\\anaconda3\\lib\\site-packages (from recommenders) (3.4.3)\n",
      "Requirement already satisfied: memory-profiler<1,>=0.54.0 in c:\\users\\chira\\anaconda3\\lib\\site-packages (from recommenders) (0.60.0)\n",
      "Requirement already satisfied: pandas<2,>1.0.3 in c:\\users\\chira\\anaconda3\\lib\\site-packages (from recommenders) (1.3.4)\n",
      "Requirement already satisfied: nltk<4,>=3.4 in c:\\users\\chira\\anaconda3\\lib\\site-packages (from recommenders) (3.6.5)\n",
      "Requirement already satisfied: numpy>=1.19 in c:\\users\\chira\\anaconda3\\lib\\site-packages (from recommenders) (1.20.3)\n",
      "Requirement already satisfied: cornac<2,>=1.1.2 in c:\\users\\chira\\anaconda3\\lib\\site-packages (from recommenders) (1.14.2)\n",
      "Requirement already satisfied: lightgbm>=2.2.1 in c:\\users\\chira\\anaconda3\\lib\\site-packages (from recommenders) (3.3.2)\n",
      "Requirement already satisfied: seaborn<1,>=0.8.1 in c:\\users\\chira\\anaconda3\\lib\\site-packages (from recommenders) (0.11.2)\n",
      "Requirement already satisfied: category-encoders<2,>=1.3.0 in c:\\users\\chira\\anaconda3\\lib\\site-packages (from recommenders) (1.3.0)\n",
      "Requirement already satisfied: transformers<5,>=2.5.0 in c:\\users\\chira\\anaconda3\\lib\\site-packages (from recommenders) (4.18.0)\n",
      "Requirement already satisfied: scikit-surprise>=1.0.6 in c:\\users\\chira\\anaconda3\\lib\\site-packages (from recommenders) (1.1.1)\n",
      "Requirement already satisfied: bottleneck<2,>=1.2.1 in c:\\users\\chira\\anaconda3\\lib\\site-packages (from recommenders) (1.3.2)\n",
      "Requirement already satisfied: retrying>=1.3.3 in c:\\users\\chira\\anaconda3\\lib\\site-packages (from recommenders) (1.3.3)\n",
      "Requirement already satisfied: pyyaml<6,>=5.4.1 in c:\\users\\chira\\anaconda3\\lib\\site-packages (from recommenders) (5.4.1)\n",
      "Requirement already satisfied: scipy<2,>=1.0.0 in c:\\users\\chira\\anaconda3\\lib\\site-packages (from recommenders) (1.7.1)\n",
      "Requirement already satisfied: lightfm<2,>=1.15 in c:\\users\\chira\\anaconda3\\lib\\site-packages (from recommenders) (1.16)\n",
      "Requirement already satisfied: numba<1,>=0.38.1 in c:\\users\\chira\\anaconda3\\lib\\site-packages (from recommenders) (0.54.1)\n",
      "Requirement already satisfied: statsmodels>=0.6.1 in c:\\users\\chira\\anaconda3\\lib\\site-packages (from category-encoders<2,>=1.3.0->recommenders) (0.12.2)\n",
      "Requirement already satisfied: patsy>=0.4.1 in c:\\users\\chira\\anaconda3\\lib\\site-packages (from category-encoders<2,>=1.3.0->recommenders) (0.5.2)\n",
      "Requirement already satisfied: powerlaw in c:\\users\\chira\\anaconda3\\lib\\site-packages (from cornac<2,>=1.1.2->recommenders) (1.5)\n",
      "Requirement already satisfied: MarkupSafe>=0.23 in c:\\users\\chira\\anaconda3\\lib\\site-packages (from jinja2<3.1,>=2->recommenders) (1.1.1)\n",
      "Requirement already satisfied: wheel in c:\\users\\chira\\anaconda3\\lib\\site-packages (from lightgbm>=2.2.1->recommenders) (0.37.0)\n",
      "Requirement already satisfied: pyparsing>=2.2.1 in c:\\users\\chira\\anaconda3\\lib\\site-packages (from matplotlib<4,>=2.2.2->recommenders) (3.0.4)\n",
      "Requirement already satisfied: cycler>=0.10 in c:\\users\\chira\\anaconda3\\lib\\site-packages (from matplotlib<4,>=2.2.2->recommenders) (0.10.0)\n",
      "Requirement already satisfied: python-dateutil>=2.7 in c:\\users\\chira\\anaconda3\\lib\\site-packages (from matplotlib<4,>=2.2.2->recommenders) (2.8.2)\n",
      "Requirement already satisfied: pillow>=6.2.0 in c:\\users\\chira\\anaconda3\\lib\\site-packages (from matplotlib<4,>=2.2.2->recommenders) (8.4.0)\n",
      "Requirement already satisfied: kiwisolver>=1.0.1 in c:\\users\\chira\\anaconda3\\lib\\site-packages (from matplotlib<4,>=2.2.2->recommenders) (1.3.1)\n",
      "Requirement already satisfied: six in c:\\users\\chira\\anaconda3\\lib\\site-packages (from cycler>=0.10->matplotlib<4,>=2.2.2->recommenders) (1.16.0)\n",
      "Requirement already satisfied: psutil in c:\\users\\chira\\anaconda3\\lib\\site-packages (from memory-profiler<1,>=0.54.0->recommenders) (5.8.0)\n",
      "Requirement already satisfied: click in c:\\users\\chira\\anaconda3\\lib\\site-packages (from nltk<4,>=3.4->recommenders) (8.0.3)\n",
      "Requirement already satisfied: joblib in c:\\users\\chira\\anaconda3\\lib\\site-packages (from nltk<4,>=3.4->recommenders) (1.1.0)\n",
      "Requirement already satisfied: regex>=2021.8.3 in c:\\users\\chira\\anaconda3\\lib\\site-packages (from nltk<4,>=3.4->recommenders) (2021.8.3)\n",
      "Requirement already satisfied: llvmlite<0.38,>=0.37.0rc1 in c:\\users\\chira\\anaconda3\\lib\\site-packages (from numba<1,>=0.38.1->recommenders) (0.37.0)\n",
      "Requirement already satisfied: setuptools in c:\\users\\chira\\anaconda3\\lib\\site-packages (from numba<1,>=0.38.1->recommenders) (58.0.4)\n",
      "Requirement already satisfied: pytz>=2017.3 in c:\\users\\chira\\anaconda3\\lib\\site-packages (from pandas<2,>1.0.3->recommenders) (2021.3)\n",
      "Requirement already satisfied: packaging>=20.0 in c:\\users\\chira\\anaconda3\\lib\\site-packages (from pandera[strategies]>=0.6.5->recommenders) (21.0)\n",
      "Requirement already satisfied: pyarrow in c:\\users\\chira\\anaconda3\\lib\\site-packages (from pandera[strategies]>=0.6.5->recommenders) (7.0.0)\n",
      "Requirement already satisfied: pydantic in c:\\users\\chira\\anaconda3\\lib\\site-packages (from pandera[strategies]>=0.6.5->recommenders) (1.9.0)\n",
      "Requirement already satisfied: typing-inspect>=0.6.0 in c:\\users\\chira\\anaconda3\\lib\\site-packages (from pandera[strategies]>=0.6.5->recommenders) (0.7.1)\n",
      "Requirement already satisfied: wrapt in c:\\users\\chira\\anaconda3\\lib\\site-packages (from pandera[strategies]>=0.6.5->recommenders) (1.12.1)\n",
      "Requirement already satisfied: hypothesis>=5.41.1 in c:\\users\\chira\\anaconda3\\lib\\site-packages (from pandera[strategies]>=0.6.5->recommenders) (6.45.1)\n",
      "Requirement already satisfied: sortedcontainers<3.0.0,>=2.1.0 in c:\\users\\chira\\anaconda3\\lib\\site-packages (from hypothesis>=5.41.1->pandera[strategies]>=0.6.5->recommenders) (2.4.0)\n",
      "Requirement already satisfied: attrs>=19.2.0 in c:\\users\\chira\\anaconda3\\lib\\site-packages (from hypothesis>=5.41.1->pandera[strategies]>=0.6.5->recommenders) (21.2.0)\n",
      "Requirement already satisfied: certifi>=2017.4.17 in c:\\users\\chira\\anaconda3\\lib\\site-packages (from requests<3,>=2.0.0->recommenders) (2021.10.8)\n",
      "Requirement already satisfied: charset-normalizer~=2.0.0 in c:\\users\\chira\\anaconda3\\lib\\site-packages (from requests<3,>=2.0.0->recommenders) (2.0.4)\n",
      "Requirement already satisfied: urllib3<1.27,>=1.21.1 in c:\\users\\chira\\anaconda3\\lib\\site-packages (from requests<3,>=2.0.0->recommenders) (1.26.7)\n",
      "Requirement already satisfied: idna<4,>=2.5 in c:\\users\\chira\\anaconda3\\lib\\site-packages (from requests<3,>=2.0.0->recommenders) (3.2)\n",
      "Requirement already satisfied: threadpoolctl>=2.0.0 in c:\\users\\chira\\anaconda3\\lib\\site-packages (from scikit-learn<1.0.3,>=0.22.1->recommenders) (2.2.0)\n",
      "Requirement already satisfied: colorama in c:\\users\\chira\\anaconda3\\lib\\site-packages (from tqdm<5,>=4.31.1->recommenders) (0.4.4)\n",
      "Requirement already satisfied: huggingface-hub<1.0,>=0.1.0 in c:\\users\\chira\\anaconda3\\lib\\site-packages (from transformers<5,>=2.5.0->recommenders) (0.5.1)\n",
      "Requirement already satisfied: tokenizers!=0.11.3,<0.13,>=0.11.1 in c:\\users\\chira\\anaconda3\\lib\\site-packages (from transformers<5,>=2.5.0->recommenders) (0.12.1)\n",
      "Requirement already satisfied: sacremoses in c:\\users\\chira\\anaconda3\\lib\\site-packages (from transformers<5,>=2.5.0->recommenders) (0.0.49)\n",
      "Requirement already satisfied: filelock in c:\\users\\chira\\anaconda3\\lib\\site-packages (from transformers<5,>=2.5.0->recommenders) (3.3.1)\n",
      "Requirement already satisfied: typing-extensions>=3.7.4.3 in c:\\users\\chira\\anaconda3\\lib\\site-packages (from huggingface-hub<1.0,>=0.1.0->transformers<5,>=2.5.0->recommenders) (3.10.0.2)\n",
      "Requirement already satisfied: mypy-extensions>=0.3.0 in c:\\users\\chira\\anaconda3\\lib\\site-packages (from typing-inspect>=0.6.0->pandera[strategies]>=0.6.5->recommenders) (0.4.3)\n",
      "Requirement already satisfied: mpmath in c:\\users\\chira\\anaconda3\\lib\\site-packages (from powerlaw->cornac<2,>=1.1.2->recommenders) (1.2.1)\n"
     ]
    }
   ],
   "source": [
    "!pip install recommenders\n"
   ]
  },
  {
   "cell_type": "code",
   "execution_count": 2,
   "id": "120c0d49",
   "metadata": {},
   "outputs": [
    {
     "name": "stdout",
     "output_type": "stream",
     "text": [
      "Requirement already satisfied: scrapbook in c:\\users\\chira\\anaconda3\\lib\\site-packages (0.5.0)\n",
      "Requirement already satisfied: pandas in c:\\users\\chira\\anaconda3\\lib\\site-packages (from scrapbook) (1.3.4)\n",
      "Requirement already satisfied: pyarrow in c:\\users\\chira\\anaconda3\\lib\\site-packages (from scrapbook) (7.0.0)\n",
      "Requirement already satisfied: ipython in c:\\users\\chira\\anaconda3\\lib\\site-packages (from scrapbook) (7.29.0)\n",
      "Requirement already satisfied: papermill in c:\\users\\chira\\anaconda3\\lib\\site-packages (from scrapbook) (2.3.4)\n",
      "Requirement already satisfied: jsonschema in c:\\users\\chira\\anaconda3\\lib\\site-packages (from scrapbook) (3.2.0)\n",
      "Requirement already satisfied: jedi>=0.16 in c:\\users\\chira\\anaconda3\\lib\\site-packages (from ipython->scrapbook) (0.18.0)\n",
      "Requirement already satisfied: pygments in c:\\users\\chira\\anaconda3\\lib\\site-packages (from ipython->scrapbook) (2.10.0)\n",
      "Requirement already satisfied: decorator in c:\\users\\chira\\anaconda3\\lib\\site-packages (from ipython->scrapbook) (5.1.0)\n",
      "Requirement already satisfied: prompt-toolkit!=3.0.0,!=3.0.1,<3.1.0,>=2.0.0 in c:\\users\\chira\\anaconda3\\lib\\site-packages (from ipython->scrapbook) (3.0.20)\n",
      "Requirement already satisfied: matplotlib-inline in c:\\users\\chira\\anaconda3\\lib\\site-packages (from ipython->scrapbook) (0.1.2)\n",
      "Requirement already satisfied: colorama in c:\\users\\chira\\anaconda3\\lib\\site-packages (from ipython->scrapbook) (0.4.4)\n",
      "Requirement already satisfied: traitlets>=4.2 in c:\\users\\chira\\anaconda3\\lib\\site-packages (from ipython->scrapbook) (5.1.0)\n",
      "Requirement already satisfied: setuptools>=18.5 in c:\\users\\chira\\anaconda3\\lib\\site-packages (from ipython->scrapbook) (58.0.4)\n",
      "Requirement already satisfied: pickleshare in c:\\users\\chira\\anaconda3\\lib\\site-packages (from ipython->scrapbook) (0.7.5)\n",
      "Requirement already satisfied: backcall in c:\\users\\chira\\anaconda3\\lib\\site-packages (from ipython->scrapbook) (0.2.0)\n",
      "Requirement already satisfied: parso<0.9.0,>=0.8.0 in c:\\users\\chira\\anaconda3\\lib\\site-packages (from jedi>=0.16->ipython->scrapbook) (0.8.2)\n",
      "Requirement already satisfied: wcwidth in c:\\users\\chira\\anaconda3\\lib\\site-packages (from prompt-toolkit!=3.0.0,!=3.0.1,<3.1.0,>=2.0.0->ipython->scrapbook) (0.2.5)\n",
      "Requirement already satisfied: pyrsistent>=0.14.0 in c:\\users\\chira\\anaconda3\\lib\\site-packages (from jsonschema->scrapbook) (0.18.0)\n",
      "Requirement already satisfied: six>=1.11.0 in c:\\users\\chira\\anaconda3\\lib\\site-packages (from jsonschema->scrapbook) (1.16.0)\n",
      "Requirement already satisfied: attrs>=17.4.0 in c:\\users\\chira\\anaconda3\\lib\\site-packages (from jsonschema->scrapbook) (21.2.0)\n",
      "Requirement already satisfied: pytz>=2017.3 in c:\\users\\chira\\anaconda3\\lib\\site-packages (from pandas->scrapbook) (2021.3)\n",
      "Requirement already satisfied: numpy>=1.17.3 in c:\\users\\chira\\anaconda3\\lib\\site-packages (from pandas->scrapbook) (1.20.3)\n",
      "Requirement already satisfied: python-dateutil>=2.7.3 in c:\\users\\chira\\anaconda3\\lib\\site-packages (from pandas->scrapbook) (2.8.2)\n",
      "Requirement already satisfied: tqdm>=4.32.2 in c:\\users\\chira\\anaconda3\\lib\\site-packages (from papermill->scrapbook) (4.62.3)\n",
      "Requirement already satisfied: nbclient>=0.2.0 in c:\\users\\chira\\anaconda3\\lib\\site-packages (from papermill->scrapbook) (0.5.3)\n",
      "Requirement already satisfied: pyyaml in c:\\users\\chira\\anaconda3\\lib\\site-packages (from papermill->scrapbook) (5.4.1)\n",
      "Requirement already satisfied: entrypoints in c:\\users\\chira\\anaconda3\\lib\\site-packages (from papermill->scrapbook) (0.3)\n",
      "Requirement already satisfied: ansiwrap in c:\\users\\chira\\anaconda3\\lib\\site-packages (from papermill->scrapbook) (0.8.4)\n",
      "Requirement already satisfied: requests in c:\\users\\chira\\anaconda3\\lib\\site-packages (from papermill->scrapbook) (2.26.0)\n",
      "Requirement already satisfied: tenacity in c:\\users\\chira\\anaconda3\\lib\\site-packages (from papermill->scrapbook) (8.0.1)\n",
      "Requirement already satisfied: nbformat>=5.1.2 in c:\\users\\chira\\anaconda3\\lib\\site-packages (from papermill->scrapbook) (5.1.3)\n",
      "Requirement already satisfied: click in c:\\users\\chira\\anaconda3\\lib\\site-packages (from papermill->scrapbook) (8.0.3)\n",
      "Requirement already satisfied: async-generator in c:\\users\\chira\\anaconda3\\lib\\site-packages (from nbclient>=0.2.0->papermill->scrapbook) (1.10)\n",
      "Requirement already satisfied: jupyter-client>=6.1.5 in c:\\users\\chira\\anaconda3\\lib\\site-packages (from nbclient>=0.2.0->papermill->scrapbook) (6.1.12)\n",
      "Requirement already satisfied: nest-asyncio in c:\\users\\chira\\anaconda3\\lib\\site-packages (from nbclient>=0.2.0->papermill->scrapbook) (1.5.1)\n",
      "Requirement already satisfied: pyzmq>=13 in c:\\users\\chira\\anaconda3\\lib\\site-packages (from jupyter-client>=6.1.5->nbclient>=0.2.0->papermill->scrapbook) (22.2.1)\n",
      "Requirement already satisfied: jupyter-core>=4.6.0 in c:\\users\\chira\\anaconda3\\lib\\site-packages (from jupyter-client>=6.1.5->nbclient>=0.2.0->papermill->scrapbook) (4.8.1)\n",
      "Requirement already satisfied: tornado>=4.1 in c:\\users\\chira\\anaconda3\\lib\\site-packages (from jupyter-client>=6.1.5->nbclient>=0.2.0->papermill->scrapbook) (6.1)\n",
      "Requirement already satisfied: pywin32>=1.0 in c:\\users\\chira\\anaconda3\\lib\\site-packages (from jupyter-core>=4.6.0->jupyter-client>=6.1.5->nbclient>=0.2.0->papermill->scrapbook) (228)\n",
      "Requirement already satisfied: ipython-genutils in c:\\users\\chira\\anaconda3\\lib\\site-packages (from nbformat>=5.1.2->papermill->scrapbook) (0.2.0)\n",
      "Requirement already satisfied: textwrap3>=0.9.2 in c:\\users\\chira\\anaconda3\\lib\\site-packages (from ansiwrap->papermill->scrapbook) (0.9.2)\n",
      "Requirement already satisfied: charset-normalizer~=2.0.0 in c:\\users\\chira\\anaconda3\\lib\\site-packages (from requests->papermill->scrapbook) (2.0.4)\n",
      "Requirement already satisfied: certifi>=2017.4.17 in c:\\users\\chira\\anaconda3\\lib\\site-packages (from requests->papermill->scrapbook) (2021.10.8)\n",
      "Requirement already satisfied: urllib3<1.27,>=1.21.1 in c:\\users\\chira\\anaconda3\\lib\\site-packages (from requests->papermill->scrapbook) (1.26.7)\n",
      "Requirement already satisfied: idna<4,>=2.5 in c:\\users\\chira\\anaconda3\\lib\\site-packages (from requests->papermill->scrapbook) (3.2)\n"
     ]
    }
   ],
   "source": [
    "!pip install scrapbook"
   ]
  },
  {
   "cell_type": "code",
   "execution_count": 1,
   "id": "a8222748",
   "metadata": {},
   "outputs": [
    {
     "name": "stdout",
     "output_type": "stream",
     "text": [
      "System version: 3.9.7 (default, Sep 16 2021, 16:59:28) [MSC v.1916 64 bit (AMD64)]\n"
     ]
    }
   ],
   "source": [
    "import sys\n",
    "import os\n",
    "import pandas as pd\n",
    "from collections import Counter\n",
    "from tqdm import tqdm\n",
    "import pickle\n",
    "import numpy as np\n",
    "import scrapbook as sb\n",
    "\n",
    "from tempfile import TemporaryDirectory\n",
    "from recommenders.datasets.mind import (download_mind,\n",
    "                                     extract_mind,\n",
    "                                     download_and_extract_glove,\n",
    "                                     load_glove_matrix,\n",
    "                                     word_tokenize\n",
    "                                    )\n",
    "from recommenders.datasets.download_utils import unzip_file\n",
    "from recommenders.datasets.download_utils import (\n",
    "    maybe_download,\n",
    "    download_path,\n",
    "    unzip_file,\n",
    ")\n",
    "print(\"System version: {}\".format(sys.version))\n"
   ]
  },
  {
   "cell_type": "code",
   "execution_count": 2,
   "id": "3b7269de",
   "metadata": {},
   "outputs": [],
   "source": [
    "mind_type=\"demo\"\n",
    "# word_embedding_dim should be in [50, 100, 200, 300]\n",
    "word_embedding_dim = 300"
   ]
  },
  {
   "cell_type": "code",
   "execution_count": 3,
   "id": "9b81e62b",
   "metadata": {},
   "outputs": [],
   "source": [
    "current_path = os.getcwd()\n",
    "data_path = os.path.join(current_path,'dataset')\n",
    "os.mkdir(data_path)"
   ]
  },
  {
   "cell_type": "code",
   "execution_count": 4,
   "id": "bfeb2562",
   "metadata": {},
   "outputs": [
    {
     "name": "stderr",
     "output_type": "stream",
     "text": [
      "100%|████████████████████████████████████████████████████████████████████████████| 17.0k/17.0k [00:03<00:00, 5.04kKB/s]\n",
      "100%|████████████████████████████████████████████████████████████████████████████| 9.84k/9.84k [00:03<00:00, 2.90kKB/s]\n"
     ]
    }
   ],
   "source": [
    "train_zip, valid_zip = download_mind(size=mind_type, dest_path=data_path)\n",
    "unzip_file(train_zip, os.path.join(data_path, 'train'), clean_zip_file=False)\n",
    "unzip_file(valid_zip, os.path.join(data_path, 'valid'), clean_zip_file=False)\n",
    "output_path = os.path.join(data_path, 'utils')\n",
    "os.makedirs(output_path, exist_ok=True)"
   ]
  },
  {
   "cell_type": "code",
   "execution_count": 5,
   "id": "8aa985cd",
   "metadata": {},
   "outputs": [],
   "source": [
    "news = pd.read_table(os.path.join(data_path, 'train', 'news.tsv'),\n",
    "                     names=['newid', 'vertical', 'subvertical', 'title',\n",
    "                            'abstract', 'url', 'entities in title', 'entities in abstract'],\n",
    "                     usecols = ['vertical', 'subvertical', 'title', 'abstract'])"
   ]
  },
  {
   "cell_type": "code",
   "execution_count": 6,
   "id": "838d1db2",
   "metadata": {},
   "outputs": [
    {
     "data": {
      "text/html": [
       "<div>\n",
       "<style scoped>\n",
       "    .dataframe tbody tr th:only-of-type {\n",
       "        vertical-align: middle;\n",
       "    }\n",
       "\n",
       "    .dataframe tbody tr th {\n",
       "        vertical-align: top;\n",
       "    }\n",
       "\n",
       "    .dataframe thead th {\n",
       "        text-align: right;\n",
       "    }\n",
       "</style>\n",
       "<table border=\"1\" class=\"dataframe\">\n",
       "  <thead>\n",
       "    <tr style=\"text-align: right;\">\n",
       "      <th></th>\n",
       "      <th>vertical</th>\n",
       "      <th>subvertical</th>\n",
       "      <th>title</th>\n",
       "      <th>abstract</th>\n",
       "    </tr>\n",
       "  </thead>\n",
       "  <tbody>\n",
       "    <tr>\n",
       "      <th>0</th>\n",
       "      <td>lifestyle</td>\n",
       "      <td>lifestyleroyals</td>\n",
       "      <td>The Brands Queen Elizabeth, Prince Charles, an...</td>\n",
       "      <td>Shop the notebooks, jackets, and more that the...</td>\n",
       "    </tr>\n",
       "    <tr>\n",
       "      <th>1</th>\n",
       "      <td>news</td>\n",
       "      <td>newsworld</td>\n",
       "      <td>The Cost of Trump's Aid Freeze in the Trenches...</td>\n",
       "      <td>Lt. Ivan Molchanets peeked over a parapet of s...</td>\n",
       "    </tr>\n",
       "    <tr>\n",
       "      <th>2</th>\n",
       "      <td>health</td>\n",
       "      <td>voices</td>\n",
       "      <td>I Was An NBA Wife. Here's How It Affected My M...</td>\n",
       "      <td>I felt like I was a fraud, and being an NBA wi...</td>\n",
       "    </tr>\n",
       "    <tr>\n",
       "      <th>3</th>\n",
       "      <td>health</td>\n",
       "      <td>medical</td>\n",
       "      <td>How to Get Rid of Skin Tags, According to a De...</td>\n",
       "      <td>They seem harmless, but there's a very good re...</td>\n",
       "    </tr>\n",
       "    <tr>\n",
       "      <th>4</th>\n",
       "      <td>weather</td>\n",
       "      <td>weathertopstories</td>\n",
       "      <td>It's been Orlando's hottest October ever so fa...</td>\n",
       "      <td>There won't be a chill down to your bones this...</td>\n",
       "    </tr>\n",
       "  </tbody>\n",
       "</table>\n",
       "</div>"
      ],
      "text/plain": [
       "    vertical        subvertical  \\\n",
       "0  lifestyle    lifestyleroyals   \n",
       "1       news          newsworld   \n",
       "2     health             voices   \n",
       "3     health            medical   \n",
       "4    weather  weathertopstories   \n",
       "\n",
       "                                               title  \\\n",
       "0  The Brands Queen Elizabeth, Prince Charles, an...   \n",
       "1  The Cost of Trump's Aid Freeze in the Trenches...   \n",
       "2  I Was An NBA Wife. Here's How It Affected My M...   \n",
       "3  How to Get Rid of Skin Tags, According to a De...   \n",
       "4  It's been Orlando's hottest October ever so fa...   \n",
       "\n",
       "                                            abstract  \n",
       "0  Shop the notebooks, jackets, and more that the...  \n",
       "1  Lt. Ivan Molchanets peeked over a parapet of s...  \n",
       "2  I felt like I was a fraud, and being an NBA wi...  \n",
       "3  They seem harmless, but there's a very good re...  \n",
       "4  There won't be a chill down to your bones this...  "
      ]
     },
     "execution_count": 6,
     "metadata": {},
     "output_type": "execute_result"
    }
   ],
   "source": [
    "news.head()"
   ]
  },
  {
   "cell_type": "code",
   "execution_count": 7,
   "id": "6f5da01c",
   "metadata": {},
   "outputs": [],
   "source": [
    "news_vertical = news.vertical.drop_duplicates().reset_index(drop=True)\n",
    "vert_dict_inv = news_vertical.to_dict()\n",
    "vert_dict = {v: k+1 for k, v in vert_dict_inv.items()}\n",
    "\n",
    "news_subvertical = news.subvertical.drop_duplicates().reset_index(drop=True)\n",
    "subvert_dict_inv = news_subvertical.to_dict()\n",
    "subvert_dict = {v: k+1 for k, v in vert_dict_inv.items()}"
   ]
  },
  {
   "cell_type": "code",
   "execution_count": 8,
   "id": "fad0143d",
   "metadata": {},
   "outputs": [],
   "source": [
    "news.title = news.title.apply(word_tokenize)\n",
    "news.abstract = news.abstract.apply(word_tokenize)"
   ]
  },
  {
   "cell_type": "code",
   "execution_count": 9,
   "id": "066f2513",
   "metadata": {},
   "outputs": [
    {
     "name": "stderr",
     "output_type": "stream",
     "text": [
      "100%|██████████████████████████████████████████████████████████████████████████| 26740/26740 [00:03<00:00, 7332.63it/s]\n"
     ]
    }
   ],
   "source": [
    "word_cnt = Counter()\n",
    "word_cnt_all = Counter()\n",
    "\n",
    "for i in tqdm(range(len(news))):\n",
    "    \n",
    "    word_cnt.update(news.loc[i]['title'])\n",
    "    word_cnt_all.update(news.loc[i]['title'])\n",
    "    word_cnt_all.update(news.loc[i]['abstract'])\n",
    "word_dict = {k: v+1 for k, v in zip(word_cnt, range(len(word_cnt)))}\n",
    "word_dict_all = {k: v+1 for k, v in zip(word_cnt_all, range(len(word_cnt_all)))}"
   ]
  },
  {
   "cell_type": "code",
   "execution_count": 11,
   "id": "08eb4f7b",
   "metadata": {},
   "outputs": [],
   "source": [
    "with open(os.path.join(output_path, 'vert_dict.pkl'), 'wb') as f:\n",
    "    pickle.dump(vert_dict, f)\n",
    "    \n",
    "with open(os.path.join(output_path, 'subvert_dict.pkl'), 'wb') as f:\n",
    "    pickle.dump(subvert_dict, f)\n",
    "\n",
    "with open(os.path.join(output_path, 'word_dict.pkl'), 'wb') as f:\n",
    "    pickle.dump(word_dict, f)\n",
    "    \n",
    "with open(os.path.join(output_path, 'word_dict_all.pkl'), 'wb') as f:\n",
    "    pickle.dump(word_dict, f)"
   ]
  },
  {
   "cell_type": "code",
   "execution_count": 24,
   "id": "c7c7018e",
   "metadata": {},
   "outputs": [],
   "source": [
    "glove_path = os.path.join(data_path, \"glove\")"
   ]
  },
  {
   "cell_type": "code",
   "execution_count": 25,
   "id": "01c6c119",
   "metadata": {},
   "outputs": [
    {
     "data": {
      "text/plain": [
       "['glove.840B.300d.txt']"
      ]
     },
     "execution_count": 25,
     "metadata": {},
     "output_type": "execute_result"
    }
   ],
   "source": [
    "os.listdir(glove_path)"
   ]
  },
  {
   "cell_type": "code",
   "execution_count": 27,
   "id": "a5f2bbb3",
   "metadata": {},
   "outputs": [
    {
     "name": "stderr",
     "output_type": "stream",
     "text": [
      "2196018it [00:23, 92228.97it/s] \n",
      "2196018it [00:25, 85961.33it/s]\n"
     ]
    }
   ],
   "source": [
    "embedding_matrix, exist_word = load_glove_matrix(glove_path, word_dict, word_embedding_dim)\n",
    "embedding_all_matrix, exist_all_word = load_glove_matrix(glove_path, word_dict_all, word_embedding_dim)"
   ]
  },
  {
   "cell_type": "code",
   "execution_count": 20,
   "id": "a8d4a4b1",
   "metadata": {},
   "outputs": [],
   "source": [
    "np.save(os.path.join(output_path, 'embedding.npy'), embedding_matrix)\n",
    "np.save(os.path.join(output_path, 'embedding_all.npy'), embedding_all_matrix)"
   ]
  },
  {
   "cell_type": "code",
   "execution_count": 28,
   "id": "ab7d5930",
   "metadata": {},
   "outputs": [
    {
     "name": "stderr",
     "output_type": "stream",
     "text": [
      "22034it [00:00, 349750.20it/s]\n"
     ]
    }
   ],
   "source": [
    "uid2index = {}\n",
    "\n",
    "with open(os.path.join(data_path, 'train', 'behaviors.tsv'), 'r') as f:\n",
    "    for l in tqdm(f):\n",
    "        uid = l.strip('\\n').split('\\t')[1]\n",
    "        if uid not in uid2index:\n",
    "            uid2index[uid] = len(uid2index) + 1"
   ]
  },
  {
   "cell_type": "code",
   "execution_count": 29,
   "id": "50d05fec",
   "metadata": {},
   "outputs": [],
   "source": [
    "with open(os.path.join(output_path, 'uid2index.pkl'), 'wb') as f:\n",
    "    pickle.dump(uid2index, f)"
   ]
  },
  {
   "cell_type": "code",
   "execution_count": 30,
   "id": "d5cb580b",
   "metadata": {},
   "outputs": [],
   "source": [
    "utils_state = {\n",
    "    'vert_num': len(vert_dict),\n",
    "    'subvert_num': len(subvert_dict),\n",
    "    'word_num': len(word_dict),\n",
    "    'word_num_all': len(word_dict_all),\n",
    "    'embedding_exist_num': len(exist_word),\n",
    "    'embedding_exist_num_all': len(exist_all_word),\n",
    "    'uid2index': len(uid2index)\n",
    "}"
   ]
  },
  {
   "cell_type": "code",
   "execution_count": 33,
   "id": "3c5b18a1",
   "metadata": {},
   "outputs": [
    {
     "data": {
      "application/scrapbook.scrap.json+json": {
       "data": {
        "embedding_exist_num": 22053,
        "embedding_exist_num_all": 36647,
        "subvert_num": 17,
        "uid2index": 5000,
        "vert_num": 17,
        "word_num": 23404,
        "word_num_all": 41074
       },
       "encoder": "json",
       "name": "utils_state",
       "version": 1
      }
     },
     "metadata": {
      "scrapbook": {
       "data": true,
       "display": false,
       "name": "utils_state"
      }
     },
     "output_type": "display_data"
    }
   ],
   "source": [
    "sb.glue(\"utils_state\", utils_state)"
   ]
  },
  {
   "cell_type": "code",
   "execution_count": null,
   "id": "6e4e8988",
   "metadata": {},
   "outputs": [],
   "source": []
  }
 ],
 "metadata": {
  "kernelspec": {
   "display_name": "Python 3 (ipykernel)",
   "language": "python",
   "name": "python3"
  },
  "language_info": {
   "codemirror_mode": {
    "name": "ipython",
    "version": 3
   },
   "file_extension": ".py",
   "mimetype": "text/x-python",
   "name": "python",
   "nbconvert_exporter": "python",
   "pygments_lexer": "ipython3",
   "version": "3.9.7"
  }
 },
 "nbformat": 4,
 "nbformat_minor": 5
}
