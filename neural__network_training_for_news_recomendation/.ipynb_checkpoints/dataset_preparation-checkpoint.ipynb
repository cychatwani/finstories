{
 "cells": [
  {
   "cell_type": "code",
   "execution_count": 2,
   "id": "6e422707",
   "metadata": {},
   "outputs": [
    {
     "name": "stdout",
     "output_type": "stream",
     "text": [
      "Requirement already satisfied: recommenders in c:\\users\\chira\\anaconda3\\lib\\site-packages (1.1.0)\n",
      "Requirement already satisfied: matplotlib<4,>=2.2.2 in c:\\users\\chira\\anaconda3\\lib\\site-packages (from recommenders) (3.4.3)\n",
      "Requirement already satisfied: transformers<5,>=2.5.0 in c:\\users\\chira\\anaconda3\\lib\\site-packages (from recommenders) (4.18.0)\n",
      "Requirement already satisfied: seaborn<1,>=0.8.1 in c:\\users\\chira\\anaconda3\\lib\\site-packages (from recommenders) (0.11.2)\n",
      "Requirement already satisfied: memory-profiler<1,>=0.54.0 in c:\\users\\chira\\anaconda3\\lib\\site-packages (from recommenders) (0.60.0)\n",
      "Requirement already satisfied: pandas<2,>1.0.3 in c:\\users\\chira\\anaconda3\\lib\\site-packages (from recommenders) (1.3.4)\n",
      "Requirement already satisfied: retrying>=1.3.3 in c:\\users\\chira\\anaconda3\\lib\\site-packages (from recommenders) (1.3.3)\n",
      "Requirement already satisfied: cornac<2,>=1.1.2 in c:\\users\\chira\\anaconda3\\lib\\site-packages (from recommenders) (1.14.2)\n",
      "Requirement already satisfied: requests<3,>=2.0.0 in c:\\users\\chira\\anaconda3\\lib\\site-packages (from recommenders) (2.26.0)\n",
      "Requirement already satisfied: pyyaml<6,>=5.4.1 in c:\\users\\chira\\anaconda3\\lib\\site-packages (from recommenders) (5.4.1)\n",
      "Requirement already satisfied: scikit-surprise>=1.0.6 in c:\\users\\chira\\anaconda3\\lib\\site-packages (from recommenders) (1.1.1)\n",
      "Requirement already satisfied: scikit-learn<1.0.3,>=0.22.1 in c:\\users\\chira\\anaconda3\\lib\\site-packages (from recommenders) (0.24.2)\n",
      "Requirement already satisfied: lightgbm>=2.2.1 in c:\\users\\chira\\anaconda3\\lib\\site-packages (from recommenders) (3.3.2)\n",
      "Requirement already satisfied: lightfm<2,>=1.15 in c:\\users\\chira\\anaconda3\\lib\\site-packages (from recommenders) (1.16)\n",
      "Requirement already satisfied: bottleneck<2,>=1.2.1 in c:\\users\\chira\\anaconda3\\lib\\site-packages (from recommenders) (1.3.2)\n",
      "Requirement already satisfied: scipy<2,>=1.0.0 in c:\\users\\chira\\anaconda3\\lib\\site-packages (from recommenders) (1.7.1)\n",
      "Requirement already satisfied: numpy>=1.19 in c:\\users\\chira\\anaconda3\\lib\\site-packages (from recommenders) (1.20.3)\n",
      "Requirement already satisfied: numba<1,>=0.38.1 in c:\\users\\chira\\anaconda3\\lib\\site-packages (from recommenders) (0.54.1)\n",
      "Requirement already satisfied: category-encoders<2,>=1.3.0 in c:\\users\\chira\\anaconda3\\lib\\site-packages (from recommenders) (1.3.0)\n",
      "Requirement already satisfied: nltk<4,>=3.4 in c:\\users\\chira\\anaconda3\\lib\\site-packages (from recommenders) (3.6.5)\n",
      "Requirement already satisfied: jinja2<3.1,>=2 in c:\\users\\chira\\anaconda3\\lib\\site-packages (from recommenders) (2.11.3)\n",
      "Requirement already satisfied: tqdm<5,>=4.31.1 in c:\\users\\chira\\anaconda3\\lib\\site-packages (from recommenders) (4.62.3)\n",
      "Requirement already satisfied: pandera[strategies]>=0.6.5 in c:\\users\\chira\\anaconda3\\lib\\site-packages (from recommenders) (0.10.1)\n",
      "Requirement already satisfied: statsmodels>=0.6.1 in c:\\users\\chira\\anaconda3\\lib\\site-packages (from category-encoders<2,>=1.3.0->recommenders) (0.12.2)\n",
      "Requirement already satisfied: patsy>=0.4.1 in c:\\users\\chira\\anaconda3\\lib\\site-packages (from category-encoders<2,>=1.3.0->recommenders) (0.5.2)\n",
      "Requirement already satisfied: powerlaw in c:\\users\\chira\\anaconda3\\lib\\site-packages (from cornac<2,>=1.1.2->recommenders) (1.5)\n",
      "Requirement already satisfied: MarkupSafe>=0.23 in c:\\users\\chira\\anaconda3\\lib\\site-packages (from jinja2<3.1,>=2->recommenders) (1.1.1)\n",
      "Requirement already satisfied: wheel in c:\\users\\chira\\anaconda3\\lib\\site-packages (from lightgbm>=2.2.1->recommenders) (0.37.0)\n",
      "Requirement already satisfied: pyparsing>=2.2.1 in c:\\users\\chira\\anaconda3\\lib\\site-packages (from matplotlib<4,>=2.2.2->recommenders) (3.0.4)\n",
      "Requirement already satisfied: cycler>=0.10 in c:\\users\\chira\\anaconda3\\lib\\site-packages (from matplotlib<4,>=2.2.2->recommenders) (0.10.0)\n",
      "Requirement already satisfied: kiwisolver>=1.0.1 in c:\\users\\chira\\anaconda3\\lib\\site-packages (from matplotlib<4,>=2.2.2->recommenders) (1.3.1)\n",
      "Requirement already satisfied: python-dateutil>=2.7 in c:\\users\\chira\\anaconda3\\lib\\site-packages (from matplotlib<4,>=2.2.2->recommenders) (2.8.2)\n",
      "Requirement already satisfied: pillow>=6.2.0 in c:\\users\\chira\\anaconda3\\lib\\site-packages (from matplotlib<4,>=2.2.2->recommenders) (8.4.0)\n",
      "Requirement already satisfied: six in c:\\users\\chira\\anaconda3\\lib\\site-packages (from cycler>=0.10->matplotlib<4,>=2.2.2->recommenders) (1.16.0)\n",
      "Requirement already satisfied: psutil in c:\\users\\chira\\anaconda3\\lib\\site-packages (from memory-profiler<1,>=0.54.0->recommenders) (5.8.0)\n",
      "Requirement already satisfied: click in c:\\users\\chira\\anaconda3\\lib\\site-packages (from nltk<4,>=3.4->recommenders) (8.0.3)\n",
      "Requirement already satisfied: joblib in c:\\users\\chira\\anaconda3\\lib\\site-packages (from nltk<4,>=3.4->recommenders) (1.1.0)\n",
      "Requirement already satisfied: regex>=2021.8.3 in c:\\users\\chira\\anaconda3\\lib\\site-packages (from nltk<4,>=3.4->recommenders) (2021.8.3)\n",
      "Requirement already satisfied: setuptools in c:\\users\\chira\\anaconda3\\lib\\site-packages (from numba<1,>=0.38.1->recommenders) (58.0.4)\n",
      "Requirement already satisfied: llvmlite<0.38,>=0.37.0rc1 in c:\\users\\chira\\anaconda3\\lib\\site-packages (from numba<1,>=0.38.1->recommenders) (0.37.0)\n",
      "Requirement already satisfied: pytz>=2017.3 in c:\\users\\chira\\anaconda3\\lib\\site-packages (from pandas<2,>1.0.3->recommenders) (2021.3)\n",
      "Requirement already satisfied: typing-inspect>=0.6.0 in c:\\users\\chira\\anaconda3\\lib\\site-packages (from pandera[strategies]>=0.6.5->recommenders) (0.7.1)\n",
      "Requirement already satisfied: pydantic in c:\\users\\chira\\anaconda3\\lib\\site-packages (from pandera[strategies]>=0.6.5->recommenders) (1.9.0)\n",
      "Requirement already satisfied: packaging>=20.0 in c:\\users\\chira\\anaconda3\\lib\\site-packages (from pandera[strategies]>=0.6.5->recommenders) (21.0)\n",
      "Requirement already satisfied: pyarrow in c:\\users\\chira\\anaconda3\\lib\\site-packages (from pandera[strategies]>=0.6.5->recommenders) (7.0.0)\n",
      "Requirement already satisfied: wrapt in c:\\users\\chira\\anaconda3\\lib\\site-packages (from pandera[strategies]>=0.6.5->recommenders) (1.12.1)\n",
      "Requirement already satisfied: hypothesis>=5.41.1 in c:\\users\\chira\\anaconda3\\lib\\site-packages (from pandera[strategies]>=0.6.5->recommenders) (6.45.1)\n",
      "Requirement already satisfied: attrs>=19.2.0 in c:\\users\\chira\\anaconda3\\lib\\site-packages (from hypothesis>=5.41.1->pandera[strategies]>=0.6.5->recommenders) (21.2.0)\n",
      "Requirement already satisfied: sortedcontainers<3.0.0,>=2.1.0 in c:\\users\\chira\\anaconda3\\lib\\site-packages (from hypothesis>=5.41.1->pandera[strategies]>=0.6.5->recommenders) (2.4.0)\n",
      "Requirement already satisfied: idna<4,>=2.5 in c:\\users\\chira\\anaconda3\\lib\\site-packages (from requests<3,>=2.0.0->recommenders) (3.2)\n",
      "Requirement already satisfied: charset-normalizer~=2.0.0 in c:\\users\\chira\\anaconda3\\lib\\site-packages (from requests<3,>=2.0.0->recommenders) (2.0.4)\n",
      "Requirement already satisfied: certifi>=2017.4.17 in c:\\users\\chira\\anaconda3\\lib\\site-packages (from requests<3,>=2.0.0->recommenders) (2021.10.8)\n",
      "Requirement already satisfied: urllib3<1.27,>=1.21.1 in c:\\users\\chira\\anaconda3\\lib\\site-packages (from requests<3,>=2.0.0->recommenders) (1.26.7)\n",
      "Requirement already satisfied: threadpoolctl>=2.0.0 in c:\\users\\chira\\anaconda3\\lib\\site-packages (from scikit-learn<1.0.3,>=0.22.1->recommenders) (2.2.0)\n",
      "Requirement already satisfied: colorama in c:\\users\\chira\\anaconda3\\lib\\site-packages (from tqdm<5,>=4.31.1->recommenders) (0.4.4)\n",
      "Requirement already satisfied: sacremoses in c:\\users\\chira\\anaconda3\\lib\\site-packages (from transformers<5,>=2.5.0->recommenders) (0.0.49)\n",
      "Requirement already satisfied: filelock in c:\\users\\chira\\anaconda3\\lib\\site-packages (from transformers<5,>=2.5.0->recommenders) (3.3.1)\n",
      "Requirement already satisfied: tokenizers!=0.11.3,<0.13,>=0.11.1 in c:\\users\\chira\\anaconda3\\lib\\site-packages (from transformers<5,>=2.5.0->recommenders) (0.12.1)\n",
      "Requirement already satisfied: huggingface-hub<1.0,>=0.1.0 in c:\\users\\chira\\anaconda3\\lib\\site-packages (from transformers<5,>=2.5.0->recommenders) (0.5.1)\n",
      "Requirement already satisfied: typing-extensions>=3.7.4.3 in c:\\users\\chira\\anaconda3\\lib\\site-packages (from huggingface-hub<1.0,>=0.1.0->transformers<5,>=2.5.0->recommenders) (3.10.0.2)\n",
      "Requirement already satisfied: mypy-extensions>=0.3.0 in c:\\users\\chira\\anaconda3\\lib\\site-packages (from typing-inspect>=0.6.0->pandera[strategies]>=0.6.5->recommenders) (0.4.3)\n",
      "Requirement already satisfied: mpmath in c:\\users\\chira\\anaconda3\\lib\\site-packages (from powerlaw->cornac<2,>=1.1.2->recommenders) (1.2.1)\n"
     ]
    }
   ],
   "source": [
    "!pip install recommenders"
   ]
  },
  {
   "cell_type": "code",
   "execution_count": 3,
   "id": "c5fac45e",
   "metadata": {},
   "outputs": [
    {
     "name": "stdout",
     "output_type": "stream",
     "text": [
      "Requirement already satisfied: scrapbook in c:\\users\\chira\\anaconda3\\lib\\site-packages (0.5.0)\n",
      "Requirement already satisfied: pandas in c:\\users\\chira\\anaconda3\\lib\\site-packages (from scrapbook) (1.3.4)\n",
      "Requirement already satisfied: jsonschema in c:\\users\\chira\\anaconda3\\lib\\site-packages (from scrapbook) (3.2.0)\n",
      "Requirement already satisfied: pyarrow in c:\\users\\chira\\anaconda3\\lib\\site-packages (from scrapbook) (7.0.0)\n",
      "Requirement already satisfied: papermill in c:\\users\\chira\\anaconda3\\lib\\site-packages (from scrapbook) (2.3.4)\n",
      "Requirement already satisfied: ipython in c:\\users\\chira\\anaconda3\\lib\\site-packages (from scrapbook) (7.29.0)\n",
      "Requirement already satisfied: jedi>=0.16 in c:\\users\\chira\\anaconda3\\lib\\site-packages (from ipython->scrapbook) (0.18.0)\n",
      "Requirement already satisfied: decorator in c:\\users\\chira\\anaconda3\\lib\\site-packages (from ipython->scrapbook) (5.1.0)\n",
      "Requirement already satisfied: colorama in c:\\users\\chira\\anaconda3\\lib\\site-packages (from ipython->scrapbook) (0.4.4)\n",
      "Requirement already satisfied: pickleshare in c:\\users\\chira\\anaconda3\\lib\\site-packages (from ipython->scrapbook) (0.7.5)\n",
      "Requirement already satisfied: traitlets>=4.2 in c:\\users\\chira\\anaconda3\\lib\\site-packages (from ipython->scrapbook) (5.1.0)\n",
      "Requirement already satisfied: setuptools>=18.5 in c:\\users\\chira\\anaconda3\\lib\\site-packages (from ipython->scrapbook) (58.0.4)\n",
      "Requirement already satisfied: backcall in c:\\users\\chira\\anaconda3\\lib\\site-packages (from ipython->scrapbook) (0.2.0)\n",
      "Requirement already satisfied: pygments in c:\\users\\chira\\anaconda3\\lib\\site-packages (from ipython->scrapbook) (2.10.0)\n",
      "Requirement already satisfied: prompt-toolkit!=3.0.0,!=3.0.1,<3.1.0,>=2.0.0 in c:\\users\\chira\\anaconda3\\lib\\site-packages (from ipython->scrapbook) (3.0.20)\n",
      "Requirement already satisfied: matplotlib-inline in c:\\users\\chira\\anaconda3\\lib\\site-packages (from ipython->scrapbook) (0.1.2)\n",
      "Requirement already satisfied: parso<0.9.0,>=0.8.0 in c:\\users\\chira\\anaconda3\\lib\\site-packages (from jedi>=0.16->ipython->scrapbook) (0.8.2)\n",
      "Requirement already satisfied: wcwidth in c:\\users\\chira\\anaconda3\\lib\\site-packages (from prompt-toolkit!=3.0.0,!=3.0.1,<3.1.0,>=2.0.0->ipython->scrapbook) (0.2.5)\n",
      "Requirement already satisfied: six>=1.11.0 in c:\\users\\chira\\anaconda3\\lib\\site-packages (from jsonschema->scrapbook) (1.16.0)\n",
      "Requirement already satisfied: attrs>=17.4.0 in c:\\users\\chira\\anaconda3\\lib\\site-packages (from jsonschema->scrapbook) (21.2.0)\n",
      "Requirement already satisfied: pyrsistent>=0.14.0 in c:\\users\\chira\\anaconda3\\lib\\site-packages (from jsonschema->scrapbook) (0.18.0)\n",
      "Requirement already satisfied: numpy>=1.17.3 in c:\\users\\chira\\anaconda3\\lib\\site-packages (from pandas->scrapbook) (1.20.3)\n",
      "Requirement already satisfied: python-dateutil>=2.7.3 in c:\\users\\chira\\anaconda3\\lib\\site-packages (from pandas->scrapbook) (2.8.2)\n",
      "Requirement already satisfied: pytz>=2017.3 in c:\\users\\chira\\anaconda3\\lib\\site-packages (from pandas->scrapbook) (2021.3)\n",
      "Requirement already satisfied: ansiwrap in c:\\users\\chira\\anaconda3\\lib\\site-packages (from papermill->scrapbook) (0.8.4)\n",
      "Requirement already satisfied: requests in c:\\users\\chira\\anaconda3\\lib\\site-packages (from papermill->scrapbook) (2.26.0)\n",
      "Requirement already satisfied: tqdm>=4.32.2 in c:\\users\\chira\\anaconda3\\lib\\site-packages (from papermill->scrapbook) (4.62.3)\n",
      "Requirement already satisfied: click in c:\\users\\chira\\anaconda3\\lib\\site-packages (from papermill->scrapbook) (8.0.3)\n",
      "Requirement already satisfied: tenacity in c:\\users\\chira\\anaconda3\\lib\\site-packages (from papermill->scrapbook) (8.0.1)\n",
      "Requirement already satisfied: pyyaml in c:\\users\\chira\\anaconda3\\lib\\site-packages (from papermill->scrapbook) (5.4.1)\n",
      "Requirement already satisfied: nbformat>=5.1.2 in c:\\users\\chira\\anaconda3\\lib\\site-packages (from papermill->scrapbook) (5.1.3)\n",
      "Requirement already satisfied: entrypoints in c:\\users\\chira\\anaconda3\\lib\\site-packages (from papermill->scrapbook) (0.3)\n",
      "Requirement already satisfied: nbclient>=0.2.0 in c:\\users\\chira\\anaconda3\\lib\\site-packages (from papermill->scrapbook) (0.5.3)\n",
      "Requirement already satisfied: nest-asyncio in c:\\users\\chira\\anaconda3\\lib\\site-packages (from nbclient>=0.2.0->papermill->scrapbook) (1.5.1)\n",
      "Requirement already satisfied: async-generator in c:\\users\\chira\\anaconda3\\lib\\site-packages (from nbclient>=0.2.0->papermill->scrapbook) (1.10)\n",
      "Requirement already satisfied: jupyter-client>=6.1.5 in c:\\users\\chira\\anaconda3\\lib\\site-packages (from nbclient>=0.2.0->papermill->scrapbook) (6.1.12)\n",
      "Requirement already satisfied: jupyter-core>=4.6.0 in c:\\users\\chira\\anaconda3\\lib\\site-packages (from jupyter-client>=6.1.5->nbclient>=0.2.0->papermill->scrapbook) (4.8.1)\n",
      "Requirement already satisfied: tornado>=4.1 in c:\\users\\chira\\anaconda3\\lib\\site-packages (from jupyter-client>=6.1.5->nbclient>=0.2.0->papermill->scrapbook) (6.1)\n",
      "Requirement already satisfied: pyzmq>=13 in c:\\users\\chira\\anaconda3\\lib\\site-packages (from jupyter-client>=6.1.5->nbclient>=0.2.0->papermill->scrapbook) (22.2.1)\n",
      "Requirement already satisfied: pywin32>=1.0 in c:\\users\\chira\\anaconda3\\lib\\site-packages (from jupyter-core>=4.6.0->jupyter-client>=6.1.5->nbclient>=0.2.0->papermill->scrapbook) (228)\n",
      "Requirement already satisfied: ipython-genutils in c:\\users\\chira\\anaconda3\\lib\\site-packages (from nbformat>=5.1.2->papermill->scrapbook) (0.2.0)\n",
      "Requirement already satisfied: textwrap3>=0.9.2 in c:\\users\\chira\\anaconda3\\lib\\site-packages (from ansiwrap->papermill->scrapbook) (0.9.2)\n",
      "Requirement already satisfied: certifi>=2017.4.17 in c:\\users\\chira\\anaconda3\\lib\\site-packages (from requests->papermill->scrapbook) (2021.10.8)\n",
      "Requirement already satisfied: idna<4,>=2.5 in c:\\users\\chira\\anaconda3\\lib\\site-packages (from requests->papermill->scrapbook) (3.2)\n",
      "Requirement already satisfied: urllib3<1.27,>=1.21.1 in c:\\users\\chira\\anaconda3\\lib\\site-packages (from requests->papermill->scrapbook) (1.26.7)\n",
      "Requirement already satisfied: charset-normalizer~=2.0.0 in c:\\users\\chira\\anaconda3\\lib\\site-packages (from requests->papermill->scrapbook) (2.0.4)\n"
     ]
    }
   ],
   "source": [
    "!pip install scrapbook"
   ]
  },
  {
   "cell_type": "code",
   "execution_count": null,
   "id": "8864af47",
   "metadata": {},
   "outputs": [],
   "source": []
  }
 ],
 "metadata": {
  "kernelspec": {
   "display_name": "Python 3 (ipykernel)",
   "language": "python",
   "name": "python3"
  },
  "language_info": {
   "codemirror_mode": {
    "name": "ipython",
    "version": 3
   },
   "file_extension": ".py",
   "mimetype": "text/x-python",
   "name": "python",
   "nbconvert_exporter": "python",
   "pygments_lexer": "ipython3",
   "version": "3.9.7"
  }
 },
 "nbformat": 4,
 "nbformat_minor": 5
}
